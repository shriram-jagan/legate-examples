{
 "cells": [
  {
   "cell_type": "code",
   "execution_count": 1,
   "id": "9856192e-1a50-46a1-851e-e9c1b182e2e1",
   "metadata": {},
   "outputs": [],
   "source": [
    "import numpy as np\n",
    "from matplotlib import pyplot as plt\n",
    "\n",
    "# seed the random number generator for deterministic runs\n",
    "np.random.seed(42)"
   ]
  },
  {
   "cell_type": "markdown",
   "id": "3332a2d0-171f-4e26-bb7c-fb96e4cf8203",
   "metadata": {},
   "source": [
    "#### Optional: Use Legate timing to measure elapsed time\n",
    "#### TODO: Add docstring"
   ]
  },
  {
   "cell_type": "code",
   "execution_count": 2,
   "id": "f118665b-1f77-40c3-8cf1-e1b48ec920e5",
   "metadata": {},
   "outputs": [],
   "source": [
    "def initialize(n_elements, n_dims, n_centroids): \n",
    "    data = np.random.random((n_elements, n_dims))\n",
    "    # Since points are random, we'll just generate some random centers\n",
    "    centroids = np.random.random((n_centroids, n_dims))\n",
    "    return data, centroids"
   ]
  },
  {
   "cell_type": "code",
   "execution_count": 3,
   "id": "58705e8e-dc70-4039-a820-b8e596b8b05b",
   "metadata": {},
   "outputs": [],
   "source": [
    "def calculate_distances(data, centroids, data_dots):\n",
    "    centroid_dots = np.square(np.linalg.norm(centroids, ord=2, axis=1))\n",
    "    pairwise_distances = ( \n",
    "        data_dots[:, np.newaxis] + centroid_dots[np.newaxis, :]\n",
    "    )   \n",
    "    # ||x-y||^2 = ||x||^2 + ||y||^2 - 2 x . y\n",
    "    # pairwise_distances has ||x||^2 + ||y||^2, so beta = 1\n",
    "    # The gemm calculates x.y for all x and y, so alpha = -2.0\n",
    "    pairwise_distances -= 2.0 * np.dot(data, centroids.T)\n",
    "    return pairwise_distances"
   ]
  },
  {
   "cell_type": "code",
   "execution_count": 4,
   "id": "670efdea-fffa-4835-83bf-04c8dbc544ee",
   "metadata": {},
   "outputs": [],
   "source": [
    "def relabel(pairwise_distances):\n",
    "    return np.argmin(pairwise_distances, axis=1)"
   ]
  },
  {
   "cell_type": "code",
   "execution_count": 5,
   "id": "cc81dad6-7661-449e-adaf-58c35698dfc3",
   "metadata": {},
   "outputs": [],
   "source": [
    "def find_centroids(\n",
    "    centroids, data, labels, pairwise_distances, zero_point, n_centroids\n",
    "):\n",
    "    # Get the number of points associated with each centroid\n",
    "    counts = np.bincount(labels, minlength=n_centroids)\n",
    "    # Build label masks for each centroid and sum across all the\n",
    "    # points assocated with each new centroid\n",
    "    distance_sum = 0.0 \n",
    "    for idx in range(n_centroids):\n",
    "        # Boolean mask indicating where the points are for this center\n",
    "        centroid_mask = labels == idx \n",
    "        centroids[idx, :] = np.sum(\n",
    "            np.where(centroid_mask[..., np.newaxis], data, zero_point), axis=0\n",
    "        )   \n",
    "        distance_sum += np.sum(\n",
    "            np.where(centroid_mask, pairwise_distances[:, idx], 0.0)\n",
    "        )   \n",
    "    # To avoid introducing divide by zero errors\n",
    "    # If a centroid has no weight, we'll do no normalization\n",
    "    # This will keep its coordinates defined.\n",
    "    counts = np.maximum(counts, np.ones((1,), dtype=np.uint64))\n",
    "    centroids /= counts[:, np.newaxis]\n",
    "    return distance_sum"
   ]
  },
  {
   "cell_type": "code",
   "execution_count": 6,
   "id": "4fde3328-4b8a-454d-8a43-82fdfb51d1e4",
   "metadata": {},
   "outputs": [],
   "source": [
    "def run_kmeans(n_centroids, n_dims, n_iters, n_elements, n_iter_check):\n",
    "    print(\"Running kmeans...\")\n",
    "    print(\"Number of data points: \" + str(n_elements))\n",
    "    print(\"Number of dimensions: \" + str(n_dims))\n",
    "    print(\"Number of centroids: \" + str(n_centroids))\n",
    "    print(\"Max iterations: \" + str(n_iters))\n",
    "\n",
    "    data, centroids = initialize(n_elements, n_dims, n_centroids)\n",
    "\n",
    "    data_dots = np.square(np.linalg.norm(data, ord=2, axis=1))\n",
    "    zero_point = np.zeros((1, data.shape[1]), dtype=data.dtype)\n",
    "\n",
    "    labels = None\n",
    "    iteration = 0 \n",
    "    prior_distance_sum = None\n",
    "    # We run for max iterations or until we converge\n",
    "    # We only test convergence every n_iter_check iterations\n",
    "    while iteration < n_iters:\n",
    "        pairwise_distances = calculate_distances(data, centroids, data_dots)\n",
    "\n",
    "        new_labels = relabel(pairwise_distances)\n",
    "\n",
    "        distance_sum = find_centroids(\n",
    "            centroids,\n",
    "            data,\n",
    "            new_labels,\n",
    "            pairwise_distances,\n",
    "            zero_point,\n",
    "            n_centroids,\n",
    "        )   \n",
    "\n",
    "        if iteration > 0 and iteration % n_iter_check == 0:\n",
    "            changes = np.not_equal(labels, new_labels)\n",
    "            total_changes = np.sum(changes)\n",
    "            delta = distance_sum / prior_distance_sum\n",
    "            if delta > 1 - 0.000001:\n",
    "                break\n",
    "                \n",
    "        prior_distance_sum = distance_sum\n",
    "        labels = new_labels\n",
    "        iteration += 1\n",
    "\n",
    "    return data, labels"
   ]
  },
  {
   "cell_type": "code",
   "execution_count": 7,
   "id": "18ac6aab-48f3-4cce-8587-b0ec04600cba",
   "metadata": {},
   "outputs": [
    {
     "name": "stdout",
     "output_type": "stream",
     "text": [
      "Running kmeans...\n",
      "Number of data points: 256\n",
      "Number of dimensions: 2\n",
      "Number of centroids: 5\n",
      "Max iterations: 100\n"
     ]
    }
   ],
   "source": [
    "n_centroids = 5\n",
    "n_dims = 2\n",
    "n_elements = 256\n",
    "n_iter_check = 10\n",
    "n_iters = 100\n",
    "\n",
    "data, labels = run_kmeans(n_centroids, n_dims, n_iters, n_elements, n_iter_check)"
   ]
  },
  {
   "cell_type": "code",
   "execution_count": 8,
   "id": "01adc703-9a64-4985-9c86-3c5082f0d891",
   "metadata": {},
   "outputs": [],
   "source": [
    "label_color_map = {0: 'blue', 1: 'black', 2: 'red', 3: 'magenta', 4:'yellow', 5: 'green', 6:'gray'}\n",
    "\n",
    "# make sure we have unique color for each cluster (total number of clusters specified by n_centroids)\n",
    "assert len(label_color_map.items()) >= n_centroids"
   ]
  },
  {
   "cell_type": "markdown",
   "id": "66864ad0-c462-4223-a249-f2539bbaf63c",
   "metadata": {},
   "source": [
    "Plot data with labels. Each color represents a cluster"
   ]
  },
  {
   "cell_type": "code",
   "execution_count": 9,
   "id": "5be8c360-d945-486a-9b0f-d0774287f4b9",
   "metadata": {},
   "outputs": [
    {
     "data": {
      "image/png": "[encoded data removed]",
      "text/plain": [
       "<Figure size 640x480 with 1 Axes>"
      ]
     },
     "metadata": {},
     "output_type": "display_data"
    }
   ],
   "source": [
    "for label_value, label_color in label_color_map.items():\n",
    "    index = (labels == label_value)\n",
    "    plt.plot(data[index, 0], data[index, 1], 'o', color=label_color)"
   ]
  },
  {
   "cell_type": "code",
   "execution_count": null,
   "id": "68fe49d4-f41d-47f0-b148-766fdf5ff25a",
   "metadata": {},
   "outputs": [],
   "source": []
  },
  {
   "cell_type": "code",
   "execution_count": null,
   "id": "39d0693c-30df-4f1f-b555-9cacc8c7e735",
   "metadata": {},
   "outputs": [],
   "source": []
  }
 ],
 "metadata": {
  "kernelspec": {
   "display_name": "python3 (legate) *",
   "language": "python",
   "name": "conda-env-legate-py"
  },
  "language_info": {
   "codemirror_mode": {
    "name": "ipython",
    "version": 3
   },
   "file_extension": ".py",
   "mimetype": "text/x-python",
   "name": "python",
   "nbconvert_exporter": "python",
   "pygments_lexer": "ipython3",
   "version": "3.10.13"
  }
 },
 "nbformat": 4,
 "nbformat_minor": 5
}
