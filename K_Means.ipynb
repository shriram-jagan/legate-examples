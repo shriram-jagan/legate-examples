{
 "cells": [
  {
   "cell_type": "markdown",
   "id": "1320e3b1-bfb1-4651-af41-817a8e54ea9b",
   "metadata": {},
   "source": [
    "# Learning Outcomes\n",
    "This example teaches how to implement k-means clustering algorithm using NumPy and is based on the k-means example in cuNumeric. \n",
    "\n",
    "In this example, you will learn:\n",
    "* how to compute pairwise distances using `newaxis`\n",
    "* how to \"bin\" data using the `bincount` \n",
    "* how to locate data using `where` and `argmin`\n",
    "* how to use boolean mask to select data\n",
    "* how to compute `norm` of an n-dimensional array\n",
    "* how to determine if two NumPy arrays don't have the same values using `not_equal`.\n",
    "* how to plot clusters using matplotlib"
   ]
  },
  {
   "cell_type": "markdown",
   "id": "a920ce4b-8d09-4d2c-b926-b1ddfcac5421",
   "metadata": {},
   "source": [
    "## Background\n",
    "To learn more about the clustering algorithm, see [this](https://stanford.edu/~cpiech/cs221/handouts/kmeans.html) material."
   ]
  },
  {
   "cell_type": "markdown",
   "id": "a72314cb-47be-40d3-90ac-5840f51f554d",
   "metadata": {},
   "source": [
    "## Implementation"
   ]
  },
  {
   "cell_type": "code",
   "execution_count": 1,
   "id": "9856192e-1a50-46a1-851e-e9c1b182e2e1",
   "metadata": {},
   "outputs": [],
   "source": [
    "import numpy as np\n",
    "import matplotlib\n",
    "from matplotlib import pyplot as plt\n",
    "from typing import Tuple"
   ]
  },
  {
   "cell_type": "markdown",
   "id": "0b0c718b-0dde-43e6-b3e8-a78e5f76877d",
   "metadata": {},
   "source": [
    "For reproducibility, use a seed to generate a default random number generator "
   ]
  },
  {
   "cell_type": "code",
   "execution_count": 2,
   "id": "3b5fd258-c696-4a07-89e9-6fda2b1b4c7d",
   "metadata": {},
   "outputs": [],
   "source": [
    "# seed the random number generator for deterministic runs\n",
    "random_seed: int = 42\n",
    "rng = np.random.default_rng(random_seed)"
   ]
  },
  {
   "cell_type": "code",
   "execution_count": 3,
   "id": "f118665b-1f77-40c3-8cf1-e1b48ec920e5",
   "metadata": {},
   "outputs": [],
   "source": [
    "def initialize(n_elements: int, n_dims: int, n_centroids: int) -> Tuple[np.ndarray, np.ndarray]:\n",
    "    \"\"\"\n",
    "    Randomly initalize data and centroids of the clusters.\n",
    "    \n",
    "    n_elements: int\n",
    "        Number of elements/observations that need to be clusters\n",
    "    n_dims: int\n",
    "        Dimension of the elements/observations\n",
    "    n_centroids: int\n",
    "        Number of clusters\n",
    "\n",
    "    Returns:\n",
    "        A Tuple with observations and centroids\n",
    "    \"\"\"\n",
    "    data = rng.random((n_elements, n_dims))\n",
    "    centroids = rng.random((n_centroids, n_dims))\n",
    "    return data, centroids"
   ]
  },
  {
   "cell_type": "code",
   "execution_count": 4,
   "id": "58705e8e-dc70-4039-a820-b8e596b8b05b",
   "metadata": {},
   "outputs": [],
   "source": [
    "def calculate_distances(data: np.ndarray, centroids: np.ndarray, data_magnitude_squared: np.ndarray) -> np.ndarray:\n",
    "    \"\"\"\n",
    "    Return pairwise distance between the data and centroids.\n",
    "\n",
    "    data: np.ndarray\n",
    "        Observations that need to be clustered\n",
    "    centroids: np.ndarray\n",
    "        The center of the clusters\n",
    "    data_magnitude_squared: np.ndarray\n",
    "        Square of magnitude of observations (|y|^2)\n",
    "\n",
    "    Returns: np.ndarray\n",
    "        \n",
    "    \"\"\"\n",
    "    centroid_dots = np.square(np.linalg.norm(centroids, ord=2, axis=1))\n",
    "    pairwise_distances = ( \n",
    "        data_magnitude_squared[:, np.newaxis] + centroid_dots[np.newaxis, :]\n",
    "    )\n",
    "    # ||x-y||^2 = ||x||^2 + ||y||^2 - 2 x . y\n",
    "    # pairwise_distances has ||x||^2 + ||y||^2, so beta = 1\n",
    "    # The gemm calculates x.y for all x and y, so alpha = -2.0\n",
    "    pairwise_distances -= 2.0 * np.dot(data, centroids.T)\n",
    "    return pairwise_distances"
   ]
  },
  {
   "cell_type": "code",
   "execution_count": 5,
   "id": "670efdea-fffa-4835-83bf-04c8dbc544ee",
   "metadata": {},
   "outputs": [],
   "source": [
    "def relabel(pairwise_distances: np.ndarray) -> np.ndarray:\n",
    "    return np.argmin(pairwise_distances, axis=1)"
   ]
  },
  {
   "cell_type": "code",
   "execution_count": 6,
   "id": "cc81dad6-7661-449e-adaf-58c35698dfc3",
   "metadata": {},
   "outputs": [],
   "source": [
    "def find_centroids(\n",
    "    centroids: np.ndarray, \n",
    "    data: np.ndarray, \n",
    "    labels: np.ndarray, \n",
    "    pairwise_distances: np.ndarray,\n",
    "    zero_point: np.ndarray,\n",
    "    n_centroids: int\n",
    ") -> np.ndarray:\n",
    "    \"\"\"Find centroids following the algorithm in the reference mentioned earlier\n",
    "    centroids: np.ndarray\n",
    "        The center of the clusters\n",
    "    data: np.ndarray\n",
    "        Observations that need to be clustered\n",
    "    labels: np.ndarray\n",
    "        The clusters the data belong to\n",
    "    pairwise_distances: np.ndarray\n",
    "        Pairwise distance between each data point and centroid\n",
    "    zero_point: np.ndarray\n",
    "        \n",
    "    n_centroids: np.ndarray\n",
    "        Number of clusters\n",
    "    \"\"\"\n",
    "    # Get the number of points associated with each centroid\n",
    "    counts = np.bincount(labels, minlength=n_centroids)\n",
    "    # Build label masks for each centroid and sum across all the\n",
    "    # points assocated with each new centroid\n",
    "    distance_sum = 0.0 \n",
    "    for idx in range(n_centroids):\n",
    "        # Boolean mask indicating where the points are for this center\n",
    "        centroid_mask = labels == idx \n",
    "        centroids[idx, :] = np.sum(\n",
    "            np.where(centroid_mask[..., np.newaxis], data, zero_point), axis=0\n",
    "        )   \n",
    "        distance_sum += np.sum(\n",
    "            np.where(centroid_mask, pairwise_distances[:, idx], 0.0)\n",
    "        )   \n",
    "    # To avoid introducing divide by zero errors\n",
    "    # If a centroid has no weight, we'll do no normalization\n",
    "    # This will keep its coordinates defined.\n",
    "    counts = np.maximum(counts, np.ones((1,), dtype=np.uint64))\n",
    "    centroids /= counts[:, np.newaxis]\n",
    "    return distance_sum"
   ]
  },
  {
   "cell_type": "code",
   "execution_count": 7,
   "id": "4fde3328-4b8a-454d-8a43-82fdfb51d1e4",
   "metadata": {},
   "outputs": [],
   "source": [
    "def run_kmeans(\n",
    "    n_centroids: int,\n",
    "    n_dims: int, \n",
    "    n_iters: int, \n",
    "    n_elements: int, \n",
    "    n_iter_check: int\n",
    ") -> Tuple[np.ndarray, np.ndarray, np.ndarray]:\n",
    "    \"\"\" \n",
    "    Generate observations and cluster them into requested number of clusters.\n",
    "    n_centroids: int\n",
    "        Number of clusters\n",
    "    n_dims: int\n",
    "        Dimension of the elements/observations\n",
    "    n_iters: int\n",
    "        Maximum number of iterations        \n",
    "    n_elements: int\n",
    "        Number of elements/observations that need to be clusters\n",
    "    n_iter_check: int\n",
    "        Determines how often we check for convergence.\n",
    "    \"\"\"\n",
    "    print(\"Running kmeans...\")\n",
    "    print(\"Number of data points: \" + str(n_elements))\n",
    "    print(\"Number of dimensions: \" + str(n_dims))\n",
    "    print(\"Number of centroids: \" + str(n_centroids))\n",
    "    print(\"Max iterations: \" + str(n_iters))\n",
    "\n",
    "    data, centroids = initialize(n_elements, n_dims, n_centroids)\n",
    "\n",
    "    data_magnitude_squared = np.square(np.linalg.norm(data, ord=2, axis=1))\n",
    "    zero_point = np.zeros((1, data.shape[1]), dtype=data.dtype)\n",
    "\n",
    "    labels = None\n",
    "    iteration = 0 \n",
    "    prior_distance_sum = None\n",
    "    # We run for max iterations or until we converge\n",
    "    # We only test convergence every n_iter_check iterations\n",
    "    while iteration < n_iters:\n",
    "        pairwise_distances = calculate_distances(data, centroids, data_magnitude_squared)\n",
    "\n",
    "        new_labels = relabel(pairwise_distances)\n",
    "\n",
    "        distance_sum = find_centroids(\n",
    "            centroids,\n",
    "            data,\n",
    "            new_labels,\n",
    "            pairwise_distances,\n",
    "            zero_point,\n",
    "            n_centroids,\n",
    "        )   \n",
    "\n",
    "        if iteration > 0 and iteration % n_iter_check == 0:\n",
    "            changes = np.not_equal(labels, new_labels)\n",
    "            total_changes = np.sum(changes)\n",
    "            delta = distance_sum / prior_distance_sum\n",
    "            if delta > 1 - 0.000001:\n",
    "                break\n",
    "                \n",
    "        prior_distance_sum = distance_sum\n",
    "        labels = new_labels\n",
    "        iteration += 1\n",
    "\n",
    "    return data, labels, centroids"
   ]
  },
  {
   "cell_type": "markdown",
   "id": "70927fda-821b-4858-862d-cae5e6e6eedc",
   "metadata": {},
   "source": [
    "### Lets run the kmeans algorithm using a set of inputs"
   ]
  },
  {
   "cell_type": "code",
   "execution_count": 8,
   "id": "18ac6aab-48f3-4cce-8587-b0ec04600cba",
   "metadata": {},
   "outputs": [
    {
     "name": "stdout",
     "output_type": "stream",
     "text": [
      "Running kmeans...\n",
      "Number of data points: 256\n",
      "Number of dimensions: 2\n",
      "Number of centroids: 5\n",
      "Max iterations: 100\n"
     ]
    }
   ],
   "source": [
    "n_centroids: int = 5\n",
    "n_dims: int = 2\n",
    "n_elements: int = 256\n",
    "n_iter_check: int = 10\n",
    "n_iters: int = 100\n",
    "\n",
    "data, labels, centroids = run_kmeans(n_centroids, n_dims, n_iters, n_elements, n_iter_check)"
   ]
  },
  {
   "cell_type": "markdown",
   "id": "0f57c8bf-831e-427a-8bd4-143b71838e4a",
   "metadata": {},
   "source": [
    "Generate a color map to differentiate the clusters"
   ]
  },
  {
   "cell_type": "code",
   "execution_count": 9,
   "id": "01adc703-9a64-4985-9c86-3c5082f0d891",
   "metadata": {},
   "outputs": [],
   "source": [
    "label_color_map = {0: 'blue', 1: 'black', 2: 'red', 3: 'magenta', 4:'yellow', 5: 'green', 6:'gray'}\n",
    "\n",
    "# make sure we have unique color for each cluster (total number of clusters specified by n_centroids)\n",
    "assert len(label_color_map.items()) >= n_centroids"
   ]
  },
  {
   "cell_type": "markdown",
   "id": "66864ad0-c462-4223-a249-f2539bbaf63c",
   "metadata": {},
   "source": [
    "Plot the clusters. Each color represents a cluster"
   ]
  },
  {
   "cell_type": "code",
   "execution_count": 10,
   "id": "5be8c360-d945-486a-9b0f-d0774287f4b9",
   "metadata": {},
   "outputs": [
    {
     "data": {
      "image/png": "[encoded data removed]",
      "text/plain": [
       "<Figure size 640x480 with 1 Axes>"
      ]
     },
     "metadata": {},
     "output_type": "display_data"
    }
   ],
   "source": [
    "# lets plot the data colored by the cluster they belong to\n",
    "for label_value, label_color in label_color_map.items():\n",
    "    index = (labels == label_value)\n",
    "    plt.plot(data[index, 0], data[index, 1], 'o', color=label_color)\n",
    "\n",
    "# lets plot the centroid of the clusters\n",
    "plt.scatter(centroids[:, 0], centroids[:, 1], s = 320, marker='*', c=list(label_color_map.values())[0:n_centroids], edgecolors='gray');\n",
    "\n",
    "plt.show()"
   ]
  },
  {
   "cell_type": "markdown",
   "id": "f19e27d2-7f24-41da-962a-6a3ea61e53af",
   "metadata": {},
   "source": [
    "#### Exercise: Change the number of clusters and number of observations and see how the clusters change"
   ]
  },
  {
   "cell_type": "code",
   "execution_count": null,
   "id": "2b89556c-7e5d-4965-87ae-f3a653d9d3f7",
   "metadata": {},
   "outputs": [],
   "source": []
  }
 ],
 "metadata": {
  "kernelspec": {
   "display_name": "python3 (legate) *",
   "language": "python",
   "name": "conda-env-legate-py"
  },
  "language_info": {
   "codemirror_mode": {
    "name": "ipython",
    "version": 3
   },
   "file_extension": ".py",
   "mimetype": "text/x-python",
   "name": "python",
   "nbconvert_exporter": "python",
   "pygments_lexer": "ipython3",
   "version": "3.10.13"
  }
 },
 "nbformat": 4,
 "nbformat_minor": 5
}
