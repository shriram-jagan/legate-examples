{
 "cells": [
  {
   "cell_type": "markdown",
   "id": "5e12d3fa-68b7-4c43-81c5-515b07a0b33d",
   "metadata": {},
   "source": [
    "This examples teaches how to compute the solution for systems of equations in two variables using NumPy. \\\n",
    "There are two equations, $f_{1}(x,y)$ and $f_{2}(x, y)$, with two variables each, $x$ and $y$. \\\n",
    "We seek to find a solution that satisfies these two equations using Newton's method.\\\n",
    "To understand Newton's method in multiple dimensions, \\\n",
    "please see [this](https://wiki.math.ntnu.no/_media/tma4125/2017v/newton.pdf) note by Markus Grasmair"
   ]
  },
  {
   "cell_type": "code",
   "execution_count": 1,
   "id": "c2d074e9-789e-4dbc-8cd0-30c03bc64cd1",
   "metadata": {},
   "outputs": [],
   "source": [
    "import numpy as np"
   ]
  },
  {
   "cell_type": "markdown",
   "id": "ab36b70f-f1e2-4d87-8c25-f304ba8ad042",
   "metadata": {
    "jp-MarkdownHeadingCollapsed": true
   },
   "source": [
    "Define the function and its Jacobian"
   ]
  },
  {
   "cell_type": "markdown",
   "id": "a814eecb-682b-4573-a2c8-572e5f0638f7",
   "metadata": {},
   "source": [
    "$f_{1}(x,y) = x^{2} + y^{2} - 13 = 0$\n",
    "\n",
    "$f_{2}(x,y) = x^{2} - 2y^{2} + 14 = 0$\n",
    "\n",
    "J = \\\n",
    "\\begin{bmatrix}\n",
    " \\Huge{\\frac{\\partial f_{1}}{\\partial x}} & \\Huge{\\frac{\\partial f_{1}}{\\partial y}} \\\\\n",
    " \\Huge{\\frac{\\partial f_{2}}{\\partial x}} & \\Huge{\\frac{\\partial f_{2}}{\\partial y}}\n",
    "\\end{bmatrix}\n",
    "\n",
    "\n",
    "Substituting the functions, $f_{1}(x, y)$ and $f_{2}(x, y)$, we get,\\\n",
    "J = \\\n",
    "\\begin{bmatrix}\n",
    " \\large{2x} & \\large{2y} \\\\\n",
    " \\large{2x} & \\large{-4y}\n",
    "\\end{bmatrix}\n"
   ]
  },
  {
   "cell_type": "code",
   "execution_count": 2,
   "id": "4252e070-a4d4-4b07-87ad-c03e789f062a",
   "metadata": {},
   "outputs": [],
   "source": [
    "def function(x: np.ndarray) -> np.ndarray:\n",
    "    \"Return a numpy array that has the computed values of $f_{1}(x, y)$ and $f_{2}(x, y)$\"\n",
    "    return np.array([np.sum(x**2) - 13.0, x[0]**2 - 2.0*x[1]**2 + 14.0])\n",
    "    \n",
    "def jacobian(x: np.ndarray) -> np.ndarray:\n",
    "    \"Return a 2x2 numpy array that has the computed values of the Jacobian, J\"\n",
    "    return np.array([[2*x[0], 2*x[1]], [2.0*x[0], -4.0*x[1]]])"
   ]
  },
  {
   "cell_type": "markdown",
   "id": "136e1298-9af2-4fc3-9b1a-a56afbd54d7a",
   "metadata": {},
   "source": [
    "Setup an iterative loop that updates an initial guess $x_{k} =  x_{k-1} - {[\\mathbf{J}(x_{k})]}^{-1} \\cdot \\mathbf{f}(x_{k})$\\\n",
    "To compute the inverse of the matrix, $\\mathbf{J}$, we use the `inv` API from NumPy's `linalg` package, and to determine when to terminate the loop, \\\n",
    "we compute the L2 norm of the difference in solution between two iterations and check if it is less than a specified tolerance."
   ]
  },
  {
   "cell_type": "markdown",
   "id": "a91752f1-5ca8-44dd-9a26-525cdf87ab51",
   "metadata": {},
   "source": [
    "Note that you might see a warning "
   ]
  },
  {
   "cell_type": "code",
   "execution_count": 3,
   "id": "c243f28e-ad5e-4c64-8340-96922785c253",
   "metadata": {},
   "outputs": [
    {
     "name": "stdout",
     "output_type": "stream",
     "text": [
      "iter: 0, xk: [-20.  20.]\n",
      "iter: 1, xk: [-10.1    10.225]\n",
      "iter: 2, xk: [-5.2480198  5.5525978]\n",
      "iter: 3, xk: [-3.00510602  3.58673037]\n",
      "iter: 4, xk: [-2.16808693  3.04798974]\n",
      "iter: 5, xk: [-2.0065157   3.00037779]\n",
      "iter: 6, xk: [-2.00001058  3.00000002]\n",
      "iter: 7, xk: [-2.  3.]\n"
     ]
    }
   ],
   "source": [
    "# number of iterations to try\n",
    "niters = 20\n",
    "\n",
    "# tolerance that sets the accuracy of solution\n",
    "tol = 1e-6\n",
    "\n",
    "# initial guess\n",
    "xk = np.array([-20.0, 20.0])\n",
    "\n",
    "# Newton's method \n",
    "for iter in range(niters):\n",
    "    xk_old = xk\n",
    "    print(f\"iter: {iter}, xk: {xk}\")\n",
    "    xk = xk - np.linalg.inv(jacobian(xk)).dot(function(xk))\n",
    "    \n",
    "    l2_norm = np.linalg.norm((xk - xk_old))\n",
    "    if l2_norm < tol:\n",
    "        break"
   ]
  },
  {
   "cell_type": "markdown",
   "id": "5e212fc2-df7f-48ea-986f-d1707402bfcd",
   "metadata": {},
   "source": [
    "We see that the solution has converged to $(x, y) = (-2, 3)$ which satisfies both the equation in 7 iterations"
   ]
  },
  {
   "cell_type": "code",
   "execution_count": 4,
   "id": "e41720e5-0884-4123-99a6-e16a3440f7af",
   "metadata": {},
   "outputs": [
    {
     "name": "stdout",
     "output_type": "stream",
     "text": [
      "\n",
      "Neton's method converged in 7 iterations to xk: [-2.  3.]\n"
     ]
    }
   ],
   "source": [
    "# print the solution if we converged\n",
    "print()\n",
    "if iter == niters - 1:\n",
    "    print(f\"Newton's method did not converge for this function, tolerance ({tol}) and number of iterations ({niters})\")\n",
    "else:\n",
    "    print(f\"Neton's method converged in {iter} iterations to xk: {xk}\")"
   ]
  },
  {
   "cell_type": "code",
   "execution_count": null,
   "id": "99191d7e-6fb3-49ec-9d59-33cd8872c539",
   "metadata": {},
   "outputs": [],
   "source": []
  }
 ],
 "metadata": {
  "kernelspec": {
   "display_name": "python3 (legate) *",
   "language": "python",
   "name": "conda-env-legate-py"
  },
  "language_info": {
   "codemirror_mode": {
    "name": "ipython",
    "version": 3
   },
   "file_extension": ".py",
   "mimetype": "text/x-python",
   "name": "python",
   "nbconvert_exporter": "python",
   "pygments_lexer": "ipython3",
   "version": "3.10.13"
  }
 },
 "nbformat": 4,
 "nbformat_minor": 5
}
